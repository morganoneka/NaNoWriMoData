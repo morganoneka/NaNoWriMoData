{
 "cells": [
  {
   "cell_type": "markdown",
   "id": "ed40a4df-69ef-4a43-a119-fb940502846a",
   "metadata": {},
   "source": [
    "# NaNoWriMo Word Count Scraping\n",
    "\n",
    "This notebook scrapes word count information for a NaNoWriMo user. Word count is scraped across all projects, and all events within that project."
   ]
  },
  {
   "cell_type": "code",
   "execution_count": null,
   "id": "0f4327da-8a48-40b2-9ef3-bf0a92461c55",
   "metadata": {},
   "outputs": [],
   "source": [
    "from selenium import webdriver\n",
    "from selenium.webdriver.common.keys import Keys\n",
    "from selenium.webdriver.firefox.firefox_binary import FirefoxBinary\n",
    "from selenium.common.exceptions import NoSuchElementException\n",
    "import time\n",
    "from datetime import datetime\n",
    "from selenium import webdriver\n",
    "import requests\n",
    "from bs4 import BeautifulSoup\n",
    "from itertools import chain\n",
    "import os\n",
    "from datetime import datetime\n",
    "import pandas as pd"
   ]
  },
  {
   "cell_type": "code",
   "execution_count": null,
   "id": "f9021ab8-998d-4250-819c-023a5c78697a",
   "metadata": {},
   "outputs": [],
   "source": [
    "# get wordcount stats across all events for one project\n",
    "def get_project_stats(html):\n",
    "    soup = BeautifulSoup(html, \"html.parser\")\n",
    "\n",
    "    # basic stats for project\n",
    "    title = soup.find(\"div\", class_=\"nw-title\").text.strip()\n",
    "    genre = soup.find(\"div\", class_=\"nw-project-genres\").text.strip()\n",
    "\n",
    "    # get each event this project was written during\n",
    "    events = [x.text.strip() for x in soup.find_all(\"div\", class_=\"nw-title\")[1:]]\n",
    "    # get goal for each event\n",
    "    goals = [x.text.split(\"/\")[1].strip() for x in soup.find_all(\"span\", class_=\"goal\")[1:]]\n",
    "\n",
    "    dfs = []\n",
    "    \n",
    "    project_url = driver.current_url\n",
    "\n",
    "    # iterate over all the events\n",
    "    for i in range(len(events)):\n",
    "        # click on the link associated with that event\n",
    "        time.sleep(10)\n",
    "        event_links = driver.find_elements_by_class_name('nw-title')\n",
    "        event_links[i+1].click()\n",
    "\n",
    "        time.sleep(5)\n",
    "        html = driver.page_source\n",
    "        stats = get_wordcount_stats(html)\n",
    "        if stats is not None:\n",
    "            stats['Project'] = title\n",
    "            stats['Genre'] = genre\n",
    "            stats['Event'] = events[i]\n",
    "            stats['Goal'] = goals[i]\n",
    "\n",
    "            dfs.append(stats)\n",
    "        \n",
    "        # go back to the project page\n",
    "        driver.get(project_url)\n",
    "\n",
    "    # return combo of all info for this project\n",
    "    if len(dfs) == 0:\n",
    "        return None\n",
    "    else:\n",
    "        return(pd.concat(dfs, axis=0))\n",
    "\n",
    "# parse the word count table\n",
    "def get_entry(row):\n",
    "    x = row.find_all(\"td\")\n",
    "    return ([datetime.strptime(x[0].text,\"%b %d, %Y\"), int(x[1].text.split(\" \")[0])])\n",
    "\n",
    "# get daily word count stats for a single nanowrimo event\n",
    "def get_wordcount_stats(html):\n",
    "    soup = BeautifulSoup(html, \"html.parser\")\n",
    "    table_info = soup.find(\"table\", class_=\"nw-table-full-width\")\n",
    "    if table_info is None:\n",
    "        return(None)\n",
    "    else:\n",
    "        table_info = table_info.find_all(\"tr\")\n",
    "        df = pd.DataFrame([get_entry(x) for x in table_info[1:]] , columns = ['Date', 'WordCount']).groupby(\"Date\").sum()\n",
    "        return(df)\n",
    "    "
   ]
  },
  {
   "cell_type": "markdown",
   "id": "a4f73da7-6195-4a56-9269-9212ee0e5387",
   "metadata": {},
   "source": [
    "# Set up driver\n"
   ]
  },
  {
   "cell_type": "code",
   "execution_count": null,
   "id": "31f64234-0da0-485f-865d-d094e8ce295f",
   "metadata": {},
   "outputs": [],
   "source": [
    "driver = webdriver.Firefox(executable_path=r'/Users/morganoneka/Documents/PersonalProjects/geckodriver')"
   ]
  },
  {
   "cell_type": "code",
   "execution_count": null,
   "id": "4e1b98d4-b163-41a1-9486-a7f64a8894fe",
   "metadata": {},
   "outputs": [],
   "source": [
    "username = \"morgandanielle\"\n",
    "url = \"https://nanowrimo.org/participants/\" + username + \"/projects\""
   ]
  },
  {
   "cell_type": "code",
   "execution_count": null,
   "id": "72f098c9-e5e7-437b-8e83-dbc96aa1aec0",
   "metadata": {},
   "outputs": [],
   "source": [
    "driver.get(url)"
   ]
  },
  {
   "cell_type": "markdown",
   "id": "6349d935-7335-403c-9a4d-713c23f2cd85",
   "metadata": {},
   "source": [
    "IMPORTANT!!! Before moving onto the next step, you need to log into the NaNoWriMo website with your credentials."
   ]
  },
  {
   "cell_type": "markdown",
   "id": "281dd97f-392c-4322-851d-08059eaff740",
   "metadata": {},
   "source": [
    "# Scraping word count\n",
    "This part of the notebook iterates over all of a user's projects to get word count. There are many long `time.sleep` calls because the NaNoWriMo website takes a bit to load."
   ]
  },
  {
   "cell_type": "code",
   "execution_count": null,
   "id": "9dc55bdf-f786-4e8d-b00d-c42cfcbecc9f",
   "metadata": {},
   "outputs": [],
   "source": [
    "# get project links for first pass \n",
    "project_links = driver.find_elements_by_class_name('goal-text')\n",
    "\n",
    "# the number of projects the user has\n",
    "number_projects = len(project_links)\n",
    "\n",
    "# list to save stats in - one df per project\n",
    "all_stats = []\n",
    "\n",
    "# iterate over all projects\n",
    "for i in range(len(project_links)):\n",
    "    print(i)\n",
    "    \n",
    "    # if the reassignment of project_links went well, it will equal the number of projects\n",
    "    if (len(project_links) != number_projects):\n",
    "        driver.get(url)\n",
    "        time.sleep(15)\n",
    "        project_links = driver.find_elements_by_class_name('goal-text')\n",
    "    \n",
    "    # click link to go to project page\n",
    "    project_links[i].click()\n",
    "    \n",
    "    # get html from page\n",
    "    time.sleep(10)\n",
    "    html = driver.page_source\n",
    "    \n",
    "    # get project page info\n",
    "    stats = get_project_stats(html)\n",
    "    all_stats.append(stats)\n",
    "\n",
    "    print(url)\n",
    "    # return to homepage\n",
    "    driver.get(url)\n",
    "     # update project links \n",
    "    time.sleep(10)\n",
    "    project_links = driver.find_elements_by_class_name('goal-text')\n",
    "    "
   ]
  },
  {
   "cell_type": "code",
   "execution_count": null,
   "id": "8a5b5c2f-10d2-472d-a487-82d528b2d72b",
   "metadata": {},
   "outputs": [],
   "source": [
    "combo = pd.concat(all_stats, axis=0)\n",
    "combo.to_csv(\"rawdata/\" + username + \".csv\")"
   ]
  },
  {
   "cell_type": "code",
   "execution_count": null,
   "id": "0d44ce50-308c-4974-a34a-b590e6da96c9",
   "metadata": {},
   "outputs": [],
   "source": []
  }
 ],
 "metadata": {
  "kernelspec": {
   "display_name": "Python 3",
   "language": "python",
   "name": "python3"
  },
  "language_info": {
   "codemirror_mode": {
    "name": "ipython",
    "version": 3
   },
   "file_extension": ".py",
   "mimetype": "text/x-python",
   "name": "python",
   "nbconvert_exporter": "python",
   "pygments_lexer": "ipython3",
   "version": "3.8.8"
  }
 },
 "nbformat": 4,
 "nbformat_minor": 5
}
